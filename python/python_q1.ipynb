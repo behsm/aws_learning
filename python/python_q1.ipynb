{
 "cells": [
  {
   "cell_type": "code",
   "execution_count": 10,
   "id": "e0797bfb",
   "metadata": {},
   "outputs": [
    {
     "data": {
      "text/plain": [
       "False"
      ]
     },
     "execution_count": 10,
     "metadata": {},
     "output_type": "execute_result"
    }
   ],
   "source": [
    "#1.How would you confirm that 2 strings have the same identity?\n",
    "s1 = 'test_string'\n",
    "s2 = 'test_string'\n",
    "s3 = 'tEsT_sTrInG'\n",
    "\n",
    "s1 == s2\n",
    "#s1 == s3"
   ]
  },
  {
   "cell_type": "code",
   "execution_count": 11,
   "id": "c390a7bf",
   "metadata": {},
   "outputs": [
    {
     "data": {
      "text/plain": [
       "False"
      ]
     },
     "execution_count": 11,
     "metadata": {},
     "output_type": "execute_result"
    }
   ],
   "source": [
    "#2.How would you check if each word in a string begins with a capital letter?\n",
    "s1 = 'test_string'\n",
    "s1 == s1.capitalize()"
   ]
  },
  {
   "cell_type": "code",
   "execution_count": 12,
   "id": "18cb4e60",
   "metadata": {},
   "outputs": [
    {
     "data": {
      "text/plain": [
       "True"
      ]
     },
     "execution_count": 12,
     "metadata": {},
     "output_type": "execute_result"
    }
   ],
   "source": [
    "s2 = 'Test_string'\n",
    "s2 == s2.capitalize()"
   ]
  },
  {
   "cell_type": "code",
   "execution_count": 13,
   "id": "aa9e7299",
   "metadata": {},
   "outputs": [
    {
     "name": "stdout",
     "output_type": "stream",
     "text": [
      "Michael is 24 years old\n"
     ]
    }
   ],
   "source": [
    "#3.What is an f-string and how do you use it?\n",
    "#An f-string is a way of formatting a string \n",
    "#This allows great control over creating strings with existing variables \n",
    "#You can use them like this:\n",
    "Name = 'Michael'\n",
    "Age = 24\n",
    "\n",
    "print(f\"{Name} is {Age} years old.\")\n"
   ]
  },
  {
   "cell_type": "code",
   "execution_count": 14,
   "id": "b64bc91e",
   "metadata": {},
   "outputs": [
    {
     "name": "stdout",
     "output_type": "stream",
     "text": [
      "Michael Behsman\n"
     ]
    }
   ],
   "source": [
    "#or like this...etc\n",
    "f_name = 'michael'\n",
    "l_name = 'behsman'\n",
    "full_name = f\"{f_name.capitalize()} {l_name.capitalize()}\"\n",
    "print(full_name)\n",
    "\n"
   ]
  },
  {
   "cell_type": "code",
   "execution_count": 22,
   "id": "4f445282",
   "metadata": {},
   "outputs": [
    {
     "data": {
      "text/plain": [
       "'dlrow olleh'"
      ]
     },
     "execution_count": 22,
     "metadata": {},
     "output_type": "execute_result"
    }
   ],
   "source": [
    "#4.Reverse the string “hello world”.\n",
    "str1=\"hello world\"\n",
    "str2 = \"\"\n",
    "for x in str1[::-1]:\n",
    "    str2+=x\n",
    "str2    \n",
    "    \n"
   ]
  },
  {
   "cell_type": "code",
   "execution_count": 25,
   "id": "618ec448",
   "metadata": {},
   "outputs": [
    {
     "name": "stdout",
     "output_type": "stream",
     "text": [
      "string starts at index: 21\n"
     ]
    }
   ],
   "source": [
    "#5.Word location in String\n",
    "str1 = \"This is the complete string\"\n",
    "str2 = \"string\"\n",
    "\n",
    "print(f\"{str2} starts at index: {str1.find(str2)}\")"
   ]
  },
  {
   "cell_type": "code",
   "execution_count": 31,
   "id": "fbd82dc1",
   "metadata": {},
   "outputs": [
    {
     "data": {
      "text/plain": [
       "(True, False, True)"
      ]
     },
     "execution_count": 31,
     "metadata": {},
     "output_type": "execute_result"
    }
   ],
   "source": [
    "#6.Test if string is subset of another\n",
    "\n",
    "str1 = \"This is the complete string\"\n",
    "str2 = \"string\"\n",
    "str3 = \"strung\"\n",
    "\n",
    "str2 in str1, str3 in str1"
   ]
  },
  {
   "cell_type": "code",
   "execution_count": 34,
   "id": "112b4aa6",
   "metadata": {},
   "outputs": [
    {
     "name": "stdout",
     "output_type": "stream",
     "text": [
      "[2, 8, 4, 2, 6, 0, 1]\n"
     ]
    }
   ],
   "source": [
    "#7.Python program to interchange first and last elements in a list\n",
    "lst = [1,8,4,2,6,0,2]\n",
    "\n",
    "def swapFirstLast(lst):\n",
    "    temp = lst[0]\n",
    "    lst[0] = lst[-1]\n",
    "    lst[-1] = temp\n",
    "    \n",
    "swapFirstLast(lst)\n",
    "print(lst)"
   ]
  },
  {
   "cell_type": "code",
   "execution_count": 36,
   "id": "82062053",
   "metadata": {},
   "outputs": [
    {
     "data": {
      "text/plain": [
       "[1, 9, 4, 2, 6, 0, 8]"
      ]
     },
     "execution_count": 36,
     "metadata": {},
     "output_type": "execute_result"
    }
   ],
   "source": [
    "#8.Python program to swap two elements in a list\n",
    "lst = [1,8,4,2,6,0,9]\n",
    "\n",
    "def swap2Ele(lst, ele1, ele2):\n",
    "    lst.index(ele1) = ele2\n",
    "    lst.index(ele2) = ele1\n",
    "\n",
    "    \n",
    "swap2Ele(lst, 8, 9)\n",
    "lst"
   ]
  },
  {
   "cell_type": "code",
   "execution_count": 40,
   "id": "5c7aa037",
   "metadata": {},
   "outputs": [
    {
     "name": "stdout",
     "output_type": "stream",
     "text": [
      "Positive number count: 4, Negative number count: 3\n"
     ]
    }
   ],
   "source": [
    "#9.Python program to count positive and negative numbers in a list\n",
    "\n",
    "#Assuming 0 counts as a positive num\n",
    "lst = [1,-8,-4,2,-6,0,9]\n",
    "\n",
    "def countPosNeg(lst):\n",
    "    pos = 0\n",
    "    neg = 0\n",
    "    for x in lst:\n",
    "        if x>=0:\n",
    "            pos += 1\n",
    "        else:\n",
    "            neg += 1\n",
    "    return pos,neg\n",
    "\n",
    "output = countPosNeg(lst)\n",
    "print(f\"Positive number count: {output[0]}, Negative number count: {output[1]}\")"
   ]
  },
  {
   "cell_type": "code",
   "execution_count": null,
   "id": "b63ad018",
   "metadata": {},
   "outputs": [],
   "source": [
    "#10.Python Program to remove empty tuples from a list"
   ]
  },
  {
   "cell_type": "code",
   "execution_count": 2,
   "id": "8a08e2aa",
   "metadata": {},
   "outputs": [
    {
     "name": "stdout",
     "output_type": "stream",
     "text": [
      "[('ab', 3), ('cd', -3), ('ef', 0)]\n"
     ]
    }
   ],
   "source": [
    "tuplesList=[(),('ab',3),('cd',-3),(),('ef', 0)]\n",
    "\n",
    "def remove(lst):\n",
    "    lst = [x for x in lst if x]\n",
    "    return lst\n",
    "\n",
    "print(remove(tuplesList))"
   ]
  },
  {
   "cell_type": "code",
   "execution_count": null,
   "id": "1ac5e11e",
   "metadata": {},
   "outputs": [],
   "source": []
  }
 ],
 "metadata": {
  "kernelspec": {
   "display_name": "Python 3 (ipykernel)",
   "language": "python",
   "name": "python3"
  },
  "language_info": {
   "codemirror_mode": {
    "name": "ipython",
    "version": 3
   },
   "file_extension": ".py",
   "mimetype": "text/x-python",
   "name": "python",
   "nbconvert_exporter": "python",
   "pygments_lexer": "ipython3",
   "version": "3.9.13"
  }
 },
 "nbformat": 4,
 "nbformat_minor": 5
}
